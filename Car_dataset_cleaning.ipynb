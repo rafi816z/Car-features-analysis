{
 "cells": [
  {
   "cell_type": "code",
   "execution_count": 2,
   "id": "57165d31-8d03-4813-9c99-20ea9a6c780c",
   "metadata": {},
   "outputs": [
    {
     "name": "stdout",
     "output_type": "stream",
     "text": [
      "          Make       Model  Year                Engine Fuel Type  Engine HP  \\\n",
      "0          BMW  1 Series M  2011     premium unleaded (required)      335.0   \n",
      "1          BMW    1 Series  2011     premium unleaded (required)      300.0   \n",
      "2          BMW    1 Series  2011     premium unleaded (required)      300.0   \n",
      "3          BMW    1 Series  2011     premium unleaded (required)      230.0   \n",
      "4          BMW    1 Series  2011     premium unleaded (required)      230.0   \n",
      "...        ...         ...   ...                             ...        ...   \n",
      "11909    Acura         ZDX  2012     premium unleaded (required)      300.0   \n",
      "11910    Acura         ZDX  2012     premium unleaded (required)      300.0   \n",
      "11911    Acura         ZDX  2012     premium unleaded (required)      300.0   \n",
      "11912    Acura         ZDX  2013  premium unleaded (recommended)      300.0   \n",
      "11913  Lincoln      Zephyr  2006                regular unleaded      221.0   \n",
      "\n",
      "       Engine Cylinders Transmission Type      Driven_Wheels  Number of Doors  \\\n",
      "0                   6.0            MANUAL   rear wheel drive              2.0   \n",
      "1                   6.0            MANUAL   rear wheel drive              2.0   \n",
      "2                   6.0            MANUAL   rear wheel drive              2.0   \n",
      "3                   6.0            MANUAL   rear wheel drive              2.0   \n",
      "4                   6.0            MANUAL   rear wheel drive              2.0   \n",
      "...                 ...               ...                ...              ...   \n",
      "11909               6.0         AUTOMATIC    all wheel drive              4.0   \n",
      "11910               6.0         AUTOMATIC    all wheel drive              4.0   \n",
      "11911               6.0         AUTOMATIC    all wheel drive              4.0   \n",
      "11912               6.0         AUTOMATIC    all wheel drive              4.0   \n",
      "11913               6.0         AUTOMATIC  front wheel drive              4.0   \n",
      "\n",
      "                             Market Category Vehicle Size  Vehicle Style  \\\n",
      "0      Factory Tuner,Luxury,High-Performance      Compact          Coupe   \n",
      "1                         Luxury,Performance      Compact    Convertible   \n",
      "2                    Luxury,High-Performance      Compact          Coupe   \n",
      "3                         Luxury,Performance      Compact          Coupe   \n",
      "4                                     Luxury      Compact    Convertible   \n",
      "...                                      ...          ...            ...   \n",
      "11909             Crossover,Hatchback,Luxury      Midsize  4dr Hatchback   \n",
      "11910             Crossover,Hatchback,Luxury      Midsize  4dr Hatchback   \n",
      "11911             Crossover,Hatchback,Luxury      Midsize  4dr Hatchback   \n",
      "11912             Crossover,Hatchback,Luxury      Midsize  4dr Hatchback   \n",
      "11913                                 Luxury      Midsize          Sedan   \n",
      "\n",
      "       highway MPG  city mpg  Popularity   MSRP  \n",
      "0               26        19        3916  46135  \n",
      "1               28        19        3916  40650  \n",
      "2               28        20        3916  36350  \n",
      "3               28        18        3916  29450  \n",
      "4               28        18        3916  34500  \n",
      "...            ...       ...         ...    ...  \n",
      "11909           23        16         204  46120  \n",
      "11910           23        16         204  56670  \n",
      "11911           23        16         204  50620  \n",
      "11912           23        16         204  50920  \n",
      "11913           26        17          61  28995  \n",
      "\n",
      "[11914 rows x 16 columns]\n"
     ]
    }
   ],
   "source": [
    "#importing car_dataset for cleaning\n",
    "import numpy as np\n",
    "import pandas as pd\n",
    "df=pd.read_csv(\"C:/Users/Rafi/Downloads/Car_data.csv\")\n",
    "print(df)"
   ]
  },
  {
   "cell_type": "code",
   "execution_count": 3,
   "id": "c2d73342-a539-4b61-a2a3-dbe4635d3f49",
   "metadata": {},
   "outputs": [
    {
     "name": "stdout",
     "output_type": "stream",
     "text": [
      "Make                    0\n",
      "Model                   0\n",
      "Year                    0\n",
      "Engine Fuel Type        3\n",
      "Engine HP              69\n",
      "Engine Cylinders       30\n",
      "Transmission Type       0\n",
      "Driven_Wheels           0\n",
      "Number of Doors         6\n",
      "Market Category      3742\n",
      "Vehicle Size            0\n",
      "Vehicle Style           0\n",
      "highway MPG             0\n",
      "city mpg                0\n",
      "Popularity              0\n",
      "MSRP                    0\n",
      "dtype: int64\n"
     ]
    }
   ],
   "source": [
    "#check total no. of null values in each column\n",
    "print(df.isnull().sum())"
   ]
  },
  {
   "cell_type": "code",
   "execution_count": 4,
   "id": "a18c1526-186a-471c-ac2e-32c4ce085c8d",
   "metadata": {},
   "outputs": [
    {
     "name": "stdout",
     "output_type": "stream",
     "text": [
      "         Make     Model  Year             Engine Fuel Type  Engine HP  \\\n",
      "11        BMW  1 Series  2013  premium unleaded (required)      230.0   \n",
      "14        BMW  1 Series  2013  premium unleaded (required)      230.0   \n",
      "17       Audi       100  1992             regular unleaded      172.0   \n",
      "18       Audi       100  1992             regular unleaded      172.0   \n",
      "20       Audi       100  1992             regular unleaded      172.0   \n",
      "...       ...       ...   ...                          ...        ...   \n",
      "11604   Volvo      XC60  2017             regular unleaded      240.0   \n",
      "11707  Suzuki       XL7  2008             regular unleaded      252.0   \n",
      "11708  Suzuki       XL7  2008             regular unleaded      252.0   \n",
      "11709  Suzuki       XL7  2008             regular unleaded      252.0   \n",
      "11717  Suzuki       XL7  2008             regular unleaded      252.0   \n",
      "\n",
      "       Engine Cylinders Transmission Type      Driven_Wheels  Number of Doors  \\\n",
      "11                  6.0            MANUAL   rear wheel drive              2.0   \n",
      "14                  6.0            MANUAL   rear wheel drive              2.0   \n",
      "17                  6.0            MANUAL  front wheel drive              4.0   \n",
      "18                  6.0            MANUAL  front wheel drive              4.0   \n",
      "20                  6.0            MANUAL  front wheel drive              4.0   \n",
      "...                 ...               ...                ...              ...   \n",
      "11604               4.0         AUTOMATIC  front wheel drive              4.0   \n",
      "11707               6.0         AUTOMATIC    all wheel drive              4.0   \n",
      "11708               6.0         AUTOMATIC    all wheel drive              4.0   \n",
      "11709               6.0         AUTOMATIC  front wheel drive              4.0   \n",
      "11717               6.0         AUTOMATIC  front wheel drive              4.0   \n",
      "\n",
      "          Market Category Vehicle Size Vehicle Style  highway MPG  city mpg  \\\n",
      "11     Luxury,Performance      Compact         Coupe           28        19   \n",
      "14     Luxury,Performance      Compact         Coupe           28        19   \n",
      "17                 Luxury      Midsize         Sedan           24        17   \n",
      "18                 Luxury      Midsize         Sedan           24        17   \n",
      "20                 Luxury      Midsize         Sedan           24        17   \n",
      "...                   ...          ...           ...          ...       ...   \n",
      "11604    Crossover,Luxury      Midsize       4dr SUV           30        23   \n",
      "11707           Crossover      Midsize       4dr SUV           22        15   \n",
      "11708           Crossover      Midsize       4dr SUV           22        15   \n",
      "11709           Crossover      Midsize       4dr SUV           22        16   \n",
      "11717           Crossover      Midsize       4dr SUV           22        16   \n",
      "\n",
      "       Popularity   MSRP  \n",
      "11           3916  31500  \n",
      "14           3916  31500  \n",
      "17           3105   2000  \n",
      "18           3105   2000  \n",
      "20           3105   2000  \n",
      "...           ...    ...  \n",
      "11604         870  40950  \n",
      "11707         481  29149  \n",
      "11708         481  29149  \n",
      "11709         481  27499  \n",
      "11717         481  27499  \n",
      "\n",
      "[1332 rows x 16 columns]\n"
     ]
    }
   ],
   "source": [
    "duplicate_rows=df[df.duplicated(keep=False)]\n",
    "print(duplicate_rows)"
   ]
  },
  {
   "cell_type": "code",
   "execution_count": 5,
   "id": "a3818794-4d1b-4209-8d72-b864407a6749",
   "metadata": {},
   "outputs": [
    {
     "name": "stdout",
     "output_type": "stream",
     "text": [
      "          Make       Model  Year                Engine Fuel Type  Engine HP  \\\n",
      "0          BMW  1 Series M  2011     premium unleaded (required)      335.0   \n",
      "1          BMW    1 Series  2011     premium unleaded (required)      300.0   \n",
      "2          BMW    1 Series  2011     premium unleaded (required)      300.0   \n",
      "3          BMW    1 Series  2011     premium unleaded (required)      230.0   \n",
      "4          BMW    1 Series  2011     premium unleaded (required)      230.0   \n",
      "...        ...         ...   ...                             ...        ...   \n",
      "11909    Acura         ZDX  2012     premium unleaded (required)      300.0   \n",
      "11910    Acura         ZDX  2012     premium unleaded (required)      300.0   \n",
      "11911    Acura         ZDX  2012     premium unleaded (required)      300.0   \n",
      "11912    Acura         ZDX  2013  premium unleaded (recommended)      300.0   \n",
      "11913  Lincoln      Zephyr  2006                regular unleaded      221.0   \n",
      "\n",
      "       Engine Cylinders Transmission Type      Driven_Wheels  Number of Doors  \\\n",
      "0                   6.0            MANUAL   rear wheel drive              2.0   \n",
      "1                   6.0            MANUAL   rear wheel drive              2.0   \n",
      "2                   6.0            MANUAL   rear wheel drive              2.0   \n",
      "3                   6.0            MANUAL   rear wheel drive              2.0   \n",
      "4                   6.0            MANUAL   rear wheel drive              2.0   \n",
      "...                 ...               ...                ...              ...   \n",
      "11909               6.0         AUTOMATIC    all wheel drive              4.0   \n",
      "11910               6.0         AUTOMATIC    all wheel drive              4.0   \n",
      "11911               6.0         AUTOMATIC    all wheel drive              4.0   \n",
      "11912               6.0         AUTOMATIC    all wheel drive              4.0   \n",
      "11913               6.0         AUTOMATIC  front wheel drive              4.0   \n",
      "\n",
      "                             Market Category Vehicle Size  Vehicle Style  \\\n",
      "0      Factory Tuner,Luxury,High-Performance      Compact          Coupe   \n",
      "1                         Luxury,Performance      Compact    Convertible   \n",
      "2                    Luxury,High-Performance      Compact          Coupe   \n",
      "3                         Luxury,Performance      Compact          Coupe   \n",
      "4                                     Luxury      Compact    Convertible   \n",
      "...                                      ...          ...            ...   \n",
      "11909             Crossover,Hatchback,Luxury      Midsize  4dr Hatchback   \n",
      "11910             Crossover,Hatchback,Luxury      Midsize  4dr Hatchback   \n",
      "11911             Crossover,Hatchback,Luxury      Midsize  4dr Hatchback   \n",
      "11912             Crossover,Hatchback,Luxury      Midsize  4dr Hatchback   \n",
      "11913                                 Luxury      Midsize          Sedan   \n",
      "\n",
      "       highway MPG  city mpg  Popularity   MSRP  \n",
      "0               26        19        3916  46135  \n",
      "1               28        19        3916  40650  \n",
      "2               28        20        3916  36350  \n",
      "3               28        18        3916  29450  \n",
      "4               28        18        3916  34500  \n",
      "...            ...       ...         ...    ...  \n",
      "11909           23        16         204  46120  \n",
      "11910           23        16         204  56670  \n",
      "11911           23        16         204  50620  \n",
      "11912           23        16         204  50920  \n",
      "11913           26        17          61  28995  \n",
      "\n",
      "[11199 rows x 16 columns]\n"
     ]
    }
   ],
   "source": [
    "df1=df.drop_duplicates()\n",
    "print(df1)"
   ]
  },
  {
   "cell_type": "code",
   "execution_count": 6,
   "id": "0c871adc-c643-4c59-ada9-4f88408ffa6a",
   "metadata": {},
   "outputs": [
    {
     "data": {
      "text/plain": [
       "Make                    0\n",
       "Model                   0\n",
       "Year                    0\n",
       "Engine Fuel Type        3\n",
       "Engine HP              69\n",
       "Engine Cylinders       30\n",
       "Transmission Type       0\n",
       "Driven_Wheels           0\n",
       "Number of Doors         6\n",
       "Market Category      3376\n",
       "Vehicle Size            0\n",
       "Vehicle Style           0\n",
       "highway MPG             0\n",
       "city mpg                0\n",
       "Popularity              0\n",
       "MSRP                    0\n",
       "dtype: int64"
      ]
     },
     "execution_count": 6,
     "metadata": {},
     "output_type": "execute_result"
    }
   ],
   "source": [
    "df1.isnull().sum()"
   ]
  },
  {
   "cell_type": "code",
   "execution_count": null,
   "id": "42282606-1b09-4440-b10f-396e13dc598e",
   "metadata": {},
   "outputs": [],
   "source": [
    "#replacing null values in \"Engine Fuel Type\" by column's MODE value\n",
    "df1['Engine Fuel Type']=df1['Engine Fuel Type'].replace(np.nan,df1['Engine Fuel Type'].mode()[0])\n",
    "#replacing null values in \"Engine HP\" by column's MEAN value\n",
    "df1['Engine HP']=df1['Engine HP'].replace(np.nan,df1['Engine HP'].mean())\n",
    "#replacing null values in \"Engine Cylinders\" by column's MEAN integer value\n",
    "df1['Engine Cylinders']=df1['Engine Cylinders'].replace(np.nan,int(df1['Engine Cylinders'].mean()))\n",
    "#replacing null values in \"Number of Doors\" by column's MEAN integer value\n",
    "df1['Number of Doors']=df1['Number of Doors'].replace(np.nan,int(df1['Number of Doors'].mean()))\n",
    "#here in column \"Market Category\" there are cells having values \"N/A\" \n",
    "#which is consider as null by python so we replace \"N/A\" by \"UNKNOWN\"\n",
    "df1['Market Category']=df1['Market Category'].replace(np.nan,\"UNKNOWN\")"
   ]
  },
  {
   "cell_type": "code",
   "execution_count": 8,
   "id": "26992cdb-3290-4956-8982-b3ddbbd4b194",
   "metadata": {},
   "outputs": [
    {
     "data": {
      "text/plain": [
       "Make                 0\n",
       "Model                0\n",
       "Year                 0\n",
       "Engine Fuel Type     0\n",
       "Engine HP            0\n",
       "Engine Cylinders     0\n",
       "Transmission Type    0\n",
       "Driven_Wheels        0\n",
       "Number of Doors      0\n",
       "Market Category      0\n",
       "Vehicle Size         0\n",
       "Vehicle Style        0\n",
       "highway MPG          0\n",
       "city mpg             0\n",
       "Popularity           0\n",
       "MSRP                 0\n",
       "dtype: int64"
      ]
     },
     "execution_count": 8,
     "metadata": {},
     "output_type": "execute_result"
    }
   ],
   "source": [
    "df1.isnull().sum()"
   ]
  },
  {
   "cell_type": "code",
   "execution_count": 9,
   "id": "6b7ccc9d-08fa-4835-9a17-cf094c2c4b41",
   "metadata": {},
   "outputs": [],
   "source": [
    "#exporting our cleaned Car_dataset in .xlsx format\n",
    "df1.to_excel(\"C:/Users/Rafi/Downloads/Car_data.xlsx\")"
   ]
  }
 ],
 "metadata": {
  "kernelspec": {
   "display_name": "Python 3 (ipykernel)",
   "language": "python",
   "name": "python3"
  },
  "language_info": {
   "codemirror_mode": {
    "name": "ipython",
    "version": 3
   },
   "file_extension": ".py",
   "mimetype": "text/x-python",
   "name": "python",
   "nbconvert_exporter": "python",
   "pygments_lexer": "ipython3",
   "version": "3.13.2"
  }
 },
 "nbformat": 4,
 "nbformat_minor": 5
}
